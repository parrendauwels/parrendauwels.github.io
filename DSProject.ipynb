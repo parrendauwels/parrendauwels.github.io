{
 "cells": [
  {
   "cell_type": "markdown",
   "metadata": {
    "deletable": true,
    "editable": true,
    "slideshow": {
     "slide_type": "slide"
    }
   },
   "source": [
    "<h1><center>Silkroad 2 <br>\n",
    "Analyzing the illegal drugsmarket hiding behind the darknet<center><h1>\n",
    "\n",
    "<img src='http://i.dailymail.co.uk/i/pix/2013/10/03/article-2442336-187DD1FC00000578-93_634x472.jpg'/ width=500px length=500px>"
   ]
  },
  {
   "cell_type": "markdown",
   "metadata": {
    "deletable": true,
    "editable": true,
    "slideshow": {
     "slide_type": "slide"
    }
   },
   "source": [
    "Dataset used from https://www.gwern.net/DNM%20archives"
   ]
  },
  {
   "cell_type": "markdown",
   "metadata": {
    "deletable": true,
    "editable": true,
    "slideshow": {
     "slide_type": "skip"
    }
   },
   "source": [
    "## 1: Imports and setting up the file-directories"
   ]
  },
  {
   "cell_type": "code",
   "execution_count": 1,
   "metadata": {
    "collapsed": true,
    "deletable": true,
    "editable": true,
    "slideshow": {
     "slide_type": "skip"
    }
   },
   "outputs": [],
   "source": [
    "# Imports\n",
    "import os \n",
    "from bs4 import BeautifulSoup\n",
    "import re\n",
    "from collections import defaultdict\n",
    "import operator\n",
    "import numpy as np\n",
    "import matplotlib.pyplot as plt\n",
    "%matplotlib inline\n",
    "from itertools import chain\n",
    "import pandas as pd"
   ]
  },
  {
   "cell_type": "code",
   "execution_count": 2,
   "metadata": {
    "collapsed": false,
    "deletable": true,
    "editable": true,
    "slideshow": {
     "slide_type": "slide"
    }
   },
   "outputs": [],
   "source": [
    "# Find all the directories to parse files in.\n",
    "first_dir= '2014-08-30-categories'\n",
    "final_dir= []\n",
    "all_items= []\n",
    "\n",
    "for filename in os.listdir(first_dir):\n",
    "    if filename.startswith('.') is not True:   # Skip the .DS Store file\n",
    "        if filename.startswith('drugs'):\n",
    "            naam=str(filename)\n",
    "            final_dir.append(first_dir+'/'+naam) # All drug related directories\n",
    "\n",
    "for files in final_dir:\n",
    "    for filename in os.listdir(files):\n",
    "        all_items.append(files+'/'+filename)"
   ]
  },
  {
   "cell_type": "markdown",
   "metadata": {
    "deletable": true,
    "editable": true,
    "slideshow": {
     "slide_type": "skip"
    }
   },
   "source": [
    "## 2: Function that extracts the shipping data"
   ]
  },
  {
   "cell_type": "code",
   "execution_count": 3,
   "metadata": {
    "collapsed": false,
    "deletable": true,
    "editable": true,
    "slideshow": {
     "slide_type": "slide"
    }
   },
   "outputs": [],
   "source": [
    "shipping = defaultdict(list)     # contains the shipping from and to\n",
    "\n",
    "def find_shipping_information(filepath):\n",
    "    \n",
    "    ''' This function takes a file(path)\n",
    "    as parameter and returns the corresponding\n",
    "    shipping data. The keys in the dictionary \n",
    "    depict which country is shipped from, where\n",
    "    the values are the possible shipping countries.\n",
    "    '''\n",
    "    \n",
    "    soup = BeautifulSoup(open(filepath),\"lxml\")                # Open file with soup and initialize lists\n",
    "    shipping_tags=[]\n",
    "    shipping_tags_no_whitespace= []\n",
    "    \n",
    "    try:\n",
    "        find_shipping= soup.findAll('div', {'class' :'shipping'})  # Find all shipping divs and extract text\n",
    "        for x in find_shipping:\n",
    "             shipping_tags.append(x.text)\n",
    "\n",
    "        for y in shipping_tags:                                    # Remove unneccesary whitespaces\n",
    "            shipping_tags_no_whitespace.append(\" \".join(y.split()))\n",
    "\n",
    "        for z in shipping_tags_no_whitespace:           # Find the shipping country, and the countries shipped to\n",
    "            find_shipping_from= re.findall(r'(?<=ships from:)(.*)(?=ships to:)',z)\n",
    "            find_shipping_to= re.findall(\"ships to: (.*)\", z)\n",
    "            for x in find_shipping_from:\n",
    "                for y in find_shipping_to:            \n",
    "                    shipping[x].append(y)     \n",
    "\n",
    "    except:\n",
    "        pass"
   ]
  },
  {
   "cell_type": "code",
   "execution_count": 4,
   "metadata": {
    "collapsed": false,
    "deletable": true,
    "editable": true,
    "slideshow": {
     "slide_type": "slide"
    }
   },
   "outputs": [],
   "source": [
    "for files in all_items:                # Run the function over all files in the directories\n",
    "    find_shipping_information(files)\n",
    "    \n",
    "shipped_from_countries= shipping.keys()   # Create a dictionary including number of advertisements per country \n",
    "count_advertisements_per_country= {}\n",
    "\n",
    "for country in shipped_from_countries:\n",
    "    number= len(shipping.get(country))\n",
    "    count_advertisements_per_country[country]=number\n",
    "\n",
    "sorted_by_advertisements = sorted(count_advertisements_per_country.items(), key=operator.itemgetter(1),reverse=True)"
   ]
  },
  {
   "cell_type": "markdown",
   "metadata": {
    "deletable": true,
    "editable": true,
    "slideshow": {
     "slide_type": "skip"
    }
   },
   "source": [
    "## 3: Plotting the number of drug advertisements per export country on Silkroad 2"
   ]
  },
  {
   "cell_type": "code",
   "execution_count": 5,
   "metadata": {
    "collapsed": false,
    "deletable": true,
    "editable": true,
    "slideshow": {
     "slide_type": "slide"
    }
   },
   "outputs": [
    {
     "data": {
      "image/png": "[encoded data removed]",
      "text/plain": [
       "<matplotlib.figure.Figure at 0x113cf8cd0>"
      ]
     },
     "metadata": {},
     "output_type": "display_data"
    }
   ],
   "source": [
    "labels, values = zip(*sorted_by_advertisements)\n",
    "indexes = np.arange(len(labels))\n",
    "width = 1\n",
    "colors = ['#4099FF', 'r', '#60EC4A', '#F9E24C', '#B086F7', '#86F7E8', '#F47A33']\n",
    "plt.bar(indexes, values, color=colors)\n",
    "plt.xticks(indexes + width * 0.5, labels,rotation=90)\n",
    "plt.title('Drugs ads per country on Silkroad 2', weight='bold')\n",
    "plt.show()"
   ]
  },
  {
   "cell_type": "markdown",
   "metadata": {
    "deletable": true,
    "editable": true,
    "slideshow": {
     "slide_type": "skip"
    }
   },
   "source": [
    "## 4. Function that finds all vendors and their corresponding country"
   ]
  },
  {
   "cell_type": "code",
   "execution_count": 6,
   "metadata": {
    "collapsed": true,
    "deletable": true,
    "editable": true,
    "slideshow": {
     "slide_type": "slide"
    }
   },
   "outputs": [],
   "source": [
    "vendors = defaultdict(list)     # contains the vendors and their presumable home country\n",
    "\n",
    "def find_vendors_with_country(filename):\n",
    "    soup = BeautifulSoup(open(filename),\"lxml\")                # Open file with soup and initialize lists and dicts\n",
    "    find_item= soup.findAll('div', {'class' :'item'})\n",
    "    for x in find_item:\n",
    "        vendor=[]\n",
    "        shipping=[]\n",
    "        find_vendor= x.findAll('div', {'class' :'vendor'})  # Find vendor\n",
    "        for vend in find_vendor:\n",
    "            vendor_list= vend.text.split()[:-1]         # remove 'sold by' and 'rating', only keep usernames\n",
    "            target_ibdex= vendor_list.index('by')\n",
    "            vendor.append(vendor_list[target_ibdex+1:])\n",
    "\n",
    "        find_shipping= x.findAll('div', {'class' :'shipping'})  # Find all shipping divs and extract text\n",
    "        for ship in find_shipping:\n",
    "            ship_list=[]\n",
    "            ship2=ship.text\n",
    "            ship3= \" \".join(ship2.split())\n",
    "            find_shipping_from= re.findall(r'(?<=ships from:)(.*)(?=ships to:)',ship3)\n",
    "            ship_list.append(find_shipping_from)\n",
    "            shipping_from= list(chain.from_iterable(ship_list))\n",
    "            shipping.append(shipping_from)\n",
    "\n",
    "        vendor= list(chain.from_iterable(vendor))\n",
    "        shipping= list(chain.from_iterable(shipping))\n",
    "        for key, value in zip(vendor, shipping):\n",
    "            vendors[key].append(value)"
   ]
  },
  {
   "cell_type": "code",
   "execution_count": 7,
   "metadata": {
    "collapsed": false,
    "deletable": true,
    "editable": true,
    "slideshow": {
     "slide_type": "slide"
    }
   },
   "outputs": [],
   "source": [
    "for files in all_items:                # Run the function over all files in the directories\n",
    "    find_vendors_with_country(files)"
   ]
  },
  {
   "cell_type": "code",
   "execution_count": 8,
   "metadata": {
    "collapsed": false,
    "deletable": true,
    "editable": true,
    "slideshow": {
     "slide_type": "slide"
    }
   },
   "outputs": [
    {
     "data": {
      "text/html": [
       "<div>\n",
       "<table border=\"1\" class=\"dataframe\">\n",
       "  <thead>\n",
       "    <tr style=\"text-align: right;\">\n",
       "      <th></th>\n",
       "      <th>Vendor</th>\n",
       "      <th>Country</th>\n",
       "    </tr>\n",
       "  </thead>\n",
       "  <tbody>\n",
       "    <tr>\n",
       "      <th>0</th>\n",
       "      <td>Bisto</td>\n",
       "      <td>[ United Kingdom ,  United Kingdom ,  United K...</td>\n",
       "    </tr>\n",
       "    <tr>\n",
       "      <th>1</th>\n",
       "      <td>-ThePakistani-</td>\n",
       "      <td>[ Undeclared ,  Undeclared ,  Undeclared ,  Un...</td>\n",
       "    </tr>\n",
       "    <tr>\n",
       "      <th>2</th>\n",
       "      <td>elpico</td>\n",
       "      <td>[ Netherlands ,  Netherlands ,  Netherlands , ...</td>\n",
       "    </tr>\n",
       "    <tr>\n",
       "      <th>3</th>\n",
       "      <td>KeithLemon</td>\n",
       "      <td>[ United Kingdom ,  United Kingdom ,  United K...</td>\n",
       "    </tr>\n",
       "    <tr>\n",
       "      <th>4</th>\n",
       "      <td>ThreeKings</td>\n",
       "      <td>[ Undeclared ,  Undeclared ,  Poland ,  Poland...</td>\n",
       "    </tr>\n",
       "  </tbody>\n",
       "</table>\n",
       "</div>"
      ],
      "text/plain": [
       "           Vendor                                            Country\n",
       "0           Bisto  [ United Kingdom ,  United Kingdom ,  United K...\n",
       "1  -ThePakistani-  [ Undeclared ,  Undeclared ,  Undeclared ,  Un...\n",
       "2          elpico  [ Netherlands ,  Netherlands ,  Netherlands , ...\n",
       "3      KeithLemon  [ United Kingdom ,  United Kingdom ,  United K...\n",
       "4      ThreeKings  [ Undeclared ,  Undeclared ,  Poland ,  Poland..."
      ]
     },
     "execution_count": 8,
     "metadata": {},
     "output_type": "execute_result"
    }
   ],
   "source": [
    "pd.DataFrame(vendors.items(), columns=['Vendor', 'Country']).head()"
   ]
  },
  {
   "cell_type": "code",
   "execution_count": 9,
   "metadata": {
    "collapsed": false,
    "deletable": true,
    "editable": true,
    "slideshow": {
     "slide_type": "slide"
    }
   },
   "outputs": [],
   "source": [
    "US= ' United States '           # Calculate the number of unique sellers for the top 5 countries\n",
    "NL= ' Netherlands '\n",
    "CH= ' China '\n",
    "UK= ' United Kingdom '\n",
    "IN= ' India '\n",
    "number_of_sellers_by_country= {US:0, NL:0, CH:0, UK:0, IN:0}\n",
    "\n",
    "for k,v in vendors.iteritems():\n",
    "    if US in v:\n",
    "        number_of_sellers_by_country[US]+= 1\n",
    "    if NL in v:\n",
    "        number_of_sellers_by_country[NL]+= 1\n",
    "    if CH in v:\n",
    "        number_of_sellers_by_country[CH]+= 1\n",
    "    if UK in v:\n",
    "        number_of_sellers_by_country[UK]+= 1\n",
    "    if IN in v:\n",
    "        number_of_sellers_by_country[IN]+= 1\n",
    "\n",
    "sorted_by_sellers = sorted(number_of_sellers_by_country.items(), key=operator.itemgetter(1),reverse=True)"
   ]
  },
  {
   "cell_type": "code",
   "execution_count": 10,
   "metadata": {
    "collapsed": false,
    "deletable": true,
    "editable": true,
    "slideshow": {
     "slide_type": "slide"
    }
   },
   "outputs": [
    {
     "data": {
      "image/png": "[encoded data removed]",
      "text/plain": [
       "<matplotlib.figure.Figure at 0x1133c1150>"
      ]
     },
     "metadata": {},
     "output_type": "display_data"
    }
   ],
   "source": [
    "labels, values = zip(*sorted_by_sellers)\n",
    "indexes = np.arange(len(labels))\n",
    "width = 1\n",
    "colors = ['#4099FF', 'r', '#60EC4A', '#F9E24C', '#B086F7', '#86F7E8', '#F47A33']\n",
    "plt.bar(indexes, values, color=colors)\n",
    "plt.xticks(indexes + width * 0.5, labels,rotation=20)\n",
    "plt.title('Top 5 countries with the most vendors', weight='bold')\n",
    "plt.show()"
   ]
  },
  {
   "cell_type": "markdown",
   "metadata": {
    "deletable": true,
    "editable": true,
    "slideshow": {
     "slide_type": "skip"
    }
   },
   "source": [
    "## 5. Most expensive product"
   ]
  },
  {
   "cell_type": "code",
   "execution_count": 11,
   "metadata": {
    "collapsed": false,
    "deletable": true,
    "editable": true,
    "slideshow": {
     "slide_type": "slide"
    }
   },
   "outputs": [],
   "source": [
    "prices_by_title = defaultdict(list)     # contains product-titles and their price\n",
    "\n",
    "def find_most_expensive_product(filename):\n",
    "    soup = BeautifulSoup(open(filename),\"lxml\")             # Open file with soup and initialize lists and dicts\n",
    "    find_item= soup.findAll('div', {'class' :'item'})\n",
    "    \n",
    "    price= []\n",
    "    title=[]\n",
    "    for x in find_item:\n",
    "        find_price= x.findAll('div', {'class' :'price'})  # Find price\n",
    "        find_title= x.findAll('div', {'class' :'item_title'})  # Find title\n",
    "        for x in find_price:\n",
    "            price.append(x.text)\n",
    "        for y in find_title:\n",
    "            title.append(y.text)       \n",
    "       \n",
    "        for t, p in zip(title, price):\n",
    "            prices_by_title[t]= (p)"
   ]
  },
  {
   "cell_type": "code",
   "execution_count": 12,
   "metadata": {
    "collapsed": false,
    "deletable": true,
    "editable": true,
    "slideshow": {
     "slide_type": "slide"
    }
   },
   "outputs": [],
   "source": [
    "for files in all_items:                # Run the function over all files in the directories\n",
    "    find_most_expensive_product(files)"
   ]
  },
  {
   "cell_type": "code",
   "execution_count": 13,
   "metadata": {
    "collapsed": false,
    "deletable": true,
    "editable": true,
    "slideshow": {
     "slide_type": "slide"
    }
   },
   "outputs": [
    {
     "data": {
      "text/html": [
       "<div>\n",
       "<table border=\"1\" class=\"dataframe\">\n",
       "  <thead>\n",
       "    <tr style=\"text-align: right;\">\n",
       "      <th></th>\n",
       "      <th>Advertisement Title</th>\n",
       "      <th>Price in Bitcoins</th>\n",
       "    </tr>\n",
       "  </thead>\n",
       "  <tbody>\n",
       "    <tr>\n",
       "      <th>4583</th>\n",
       "      <td>1kg Highest Purity Cocaine - Direct From Colombia</td>\n",
       "      <td>99.009906</td>\n",
       "    </tr>\n",
       "    <tr>\n",
       "      <th>127</th>\n",
       "      <td>100 White Domino's 220MG MDMA</td>\n",
       "      <td>931696658271443200.000000</td>\n",
       "    </tr>\n",
       "    <tr>\n",
       "      <th>6741</th>\n",
       "      <td>1500 grams of pure butylone (bk-MBDB)</td>\n",
       "      <td>9.978070</td>\n",
       "    </tr>\n",
       "    <tr>\n",
       "      <th>384</th>\n",
       "      <td>100 doses LSD Strong 150 ug</td>\n",
       "      <td>9.962634</td>\n",
       "    </tr>\n",
       "    <tr>\n",
       "      <th>6858</th>\n",
       "      <td>1000 x LSD Blotter | 120ug Pure White LSD Xtal...</td>\n",
       "      <td>9.873641</td>\n",
       "    </tr>\n",
       "  </tbody>\n",
       "</table>\n",
       "</div>"
      ],
      "text/plain": [
       "                                    Advertisement Title  \\\n",
       "4583  1kg Highest Purity Cocaine - Direct From Colombia   \n",
       "127                       100 White Domino's 220MG MDMA   \n",
       "6741              1500 grams of pure butylone (bk-MBDB)   \n",
       "384                         100 doses LSD Strong 150 ug   \n",
       "6858  1000 x LSD Blotter | 120ug Pure White LSD Xtal...   \n",
       "\n",
       "              Price in Bitcoins  \n",
       "4583                  99.009906  \n",
       "127   931696658271443200.000000  \n",
       "6741                   9.978070  \n",
       "384                    9.962634  \n",
       "6858                   9.873641  "
      ]
     },
     "execution_count": 13,
     "metadata": {},
     "output_type": "execute_result"
    }
   ],
   "source": [
    "for k,v in prices_by_title.iteritems():\n",
    "    prices_by_title[k] = v.encode('ascii','ignore')   # ASCII does not support the Bitcoin sign, so ignore.\n",
    "    \n",
    "price_df= pd.DataFrame(prices_by_title.items(), columns=['Advertisement Title', 'Price in Bitcoins']) # Create df\n",
    "price_df2= price_df.sort_values('Price in Bitcoins',ascending=False)\n",
    "price_df2.head()"
   ]
  },
  {
   "cell_type": "code",
   "execution_count": null,
   "metadata": {
    "collapsed": false
   },
   "outputs": [],
   "source": [
    "# Converting this notebook to a slideshow\n",
    "!jupyter nbconvert --post serve --to slides --reveal-prefix \"http://maartenmarx.nl/reveal.js\" DSProjectSlides.ipynb"
   ]
  },
  {
   "cell_type": "code",
   "execution_count": null,
   "metadata": {
    "collapsed": true
   },
   "outputs": [],
   "source": []
  }
 ],
 "metadata": {
  "anaconda-cloud": {},
  "celltoolbar": "Slideshow",
  "kernelspec": {
   "display_name": "Python 2",
   "language": "python",
   "name": "python2"
  },
  "language_info": {
   "codemirror_mode": {
    "name": "ipython",
    "version": 2
   },
   "file_extension": ".py",
   "mimetype": "text/x-python",
   "name": "python",
   "nbconvert_exporter": "python",
   "pygments_lexer": "ipython2",
   "version": "2.7.13"
  }
 },
 "nbformat": 4,
 "nbformat_minor": 1
}
